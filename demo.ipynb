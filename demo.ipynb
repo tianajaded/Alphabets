%%capture
cd ..
import numpy as np
from matplotlib import pyplot as plt
from utils.unicode_utils import create_df_unicode, code_type, get_language, make_picture
from utils.complexity_metrics import pixel_count_complexity
df_unicode = create_df_unicode()

df_unicode

dfu=df_unicode[df_unicode.code.apply(code_type)=='Writing Symbol'].reset_index(drop=True)
dfu['language'] = dfu.note.apply(get_language)
dfu.language.value_counts()            
#for i in dfu.language.value_counts().index:
    #print(i)
    #print(' '.join([u(k) for k in dfu[dfu.language==i].code]))
' '.join(dfu[dfu.language=='MYANMAR'].rep)

%%time

sub_df = dfu.head(100).copy()
sub_df['picture'] = sub_df.code.apply(lambda x: make_picture(x, 'data/ttfs/NotoSans-Regular.ttf'))

def check_symmetry(picture):
    left_right_sym = 0
    top_bottom_sym = 0

    #check left-right symmetry
    for j in range(len(picture)):
        for i in range(int(np.floor(len(picture[0]) / 2))):
            if picture[j][i] == picture[j][-i]:
                left_right_sym += 1

    #check top-bottom symmetry
    for j in range(int(np.floor(len(picture) / 2))):
        for i in range(len(picture[0])):
            if picture[j][i] == picture[-j][i]:
                top_bottom_sym += 1

    #get symmetry ratios
    left_right_total = len(picture) * np.floor(len(picture[0]) / 2)
    top_bottom_total = np.floor(len(picture) / 2) * len(picture[0])

    sym_lr_ratio = left_right_sym / left_right_total if left_right_total > 0 else 0
    sym_tb_ratio = top_bottom_sym / top_bottom_total if top_bottom_total > 0 else 0

    return sym_lr_ratio, sym_tb_ratio

symmetry = sub_df.picture.apply(check_symmetry)
print(symmetry)

if len(sub_df) > 99:
    plt.imshow(sub_df.iloc[99].picture, cmap='gray')
    plt.show()
else:
    print('invalid index')

"""

#this code is for the whole dataframe. it takes a long time to run(about 60 mins), so I commented it out.

%%time

dfu['picture'] = dfu.code.apply(lambda x: make_picture(x, 'data/ttfs/NotoSans-Regular.ttf'))

def check_symmetry(picture):
    left_right_sym = 0  
    top_bottom_sym = 0  

    #check the left right symmetry
    for j in range(len(picture)):
        for i in range(int(np.floor(len(picture[0]) / 2))):
            if picture[j][i] == picture[j][-i]:
                left_right_sym += 1

    #check top bottom symmetry
    for j in range(int(np.floor(len(picture) / 2))):
        for i in range(len(picture[0])):
            if picture[j][i] == picture[-j][i]:
                top_bottom_sym += 1

    #get symmetry ratios
    left_right_total = len(picture) * np.floor(len(picture[0]) / 2)
    top_bottom_total = np.floor(len(picture) / 2) * len(picture[0])

    sym_lr_ratio = left_right_sym / left_right_total if left_right_total > 0 else 0
    sym_tb_ratio = top_bottom_sym / top_bottom_total if top_bottom_total > 0 else 0

    return sym_lr_ratio, sym_tb_ratio

symmetry = dfu.picture.apply(check_symmetry)
print(symmetry)
if len(dfu)>0:

    plt.imshow(dfu.iloc[0].picture, cmap='gray')
    plt.show()
else:
    print('invalid index')
"""
sub_df['pixel_count_complexity'] = sub_df.picture.apply(pixel_count_complexity)

'   '.join(sub_df.sort_values('pixel_count_complexity', ascending=True).rep.iloc[:100].values)

"""

#this code is for the whole dataframe. 

dfu['pixel_count_complexity'] = dfu.picture.apply(pixel_count_complexity)

'   '.join(dfu.sort_values('pixel_count_complexity',ascending=True).rep.iloc[:100].values)
"""
plt.hist(sub_df.pixel_count_complexity,
        bins=np.arange(.994,1.0002,.0001))
plt.yscale('log')
plt.show()
"""
plt.hist(dfu.pixel_count_complexity,
        bins=np.arange(.994,1.0002,.0001))
plt.yscale('log')
plt.show()
"""
