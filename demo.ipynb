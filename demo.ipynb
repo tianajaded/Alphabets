{
 "cells": [
  {
   "cell_type": "code",
   "execution_count": 1,
   "id": "376cfeb6-904e-4da2-8019-d200d6b739b8",
   "metadata": {},
   "outputs": [],
   "source": [
    "%%capture\n",
    "cd .."
   ]
  },
  {
   "cell_type": "code",
   "execution_count": 2,
   "id": "1987921f",
   "metadata": {},
   "outputs": [],
   "source": [
    "import os\n",
    "from PIL import Image\n",
    "os.chdir('/Users/tiananoll-walker/Documents/bmsis/alphabets_code/alphabet_complexity-main/')\n"
   ]
  },
  {
   "cell_type": "code",
   "execution_count": 3,
   "id": "bddef2cc-0e9c-40d5-a09d-8b11bb04d8d8",
   "metadata": {},
   "outputs": [],
   "source": [
    "import numpy as np\n",
    "from matplotlib import pyplot as plt\n",
    "from utils.unicode_utils import create_df_unicode, code_type, get_language, preprocess_code,make_picture\n",
    "from utils.complexity_metrics import pixel_count_complexity\n"
   ]
  },
  {
   "cell_type": "code",
   "execution_count": 4,
   "id": "5dac31d7-45cc-4b67-9f8f-b8aa4282e09c",
   "metadata": {
    "tags": []
   },
   "outputs": [
    {
     "name": "stdout",
     "output_type": "stream",
     "text": [
      "Resolved file path: /Users/tiananoll-walker/Documents/bmsis/alphabets_code/alphabet_complexity-main/data/unicode_names_list.txt\n"
     ]
    },
    {
     "data": {
      "text/html": [
       "<div>\n",
       "<style scoped>\n",
       "    .dataframe tbody tr th:only-of-type {\n",
       "        vertical-align: middle;\n",
       "    }\n",
       "\n",
       "    .dataframe tbody tr th {\n",
       "        vertical-align: top;\n",
       "    }\n",
       "\n",
       "    .dataframe thead th {\n",
       "        text-align: right;\n",
       "    }\n",
       "</style>\n",
       "<table border=\"1\" class=\"dataframe\">\n",
       "  <thead>\n",
       "    <tr style=\"text-align: right;\">\n",
       "      <th></th>\n",
       "      <th>code</th>\n",
       "      <th>note</th>\n",
       "      <th>rep</th>\n",
       "    </tr>\n",
       "  </thead>\n",
       "  <tbody>\n",
       "    <tr>\n",
       "      <th>0</th>\n",
       "      <td>0020</td>\n",
       "      <td>SPACE</td>\n",
       "      <td></td>\n",
       "    </tr>\n",
       "    <tr>\n",
       "      <th>1</th>\n",
       "      <td>0021</td>\n",
       "      <td>EXCLAMATION MARK</td>\n",
       "      <td>!</td>\n",
       "    </tr>\n",
       "    <tr>\n",
       "      <th>2</th>\n",
       "      <td>0022</td>\n",
       "      <td>QUOTATION MARK</td>\n",
       "      <td>\"</td>\n",
       "    </tr>\n",
       "    <tr>\n",
       "      <th>3</th>\n",
       "      <td>0023</td>\n",
       "      <td>NUMBER SIGN</td>\n",
       "      <td>#</td>\n",
       "    </tr>\n",
       "    <tr>\n",
       "      <th>4</th>\n",
       "      <td>0024</td>\n",
       "      <td>DOLLAR SIGN</td>\n",
       "      <td>$</td>\n",
       "    </tr>\n",
       "    <tr>\n",
       "      <th>...</th>\n",
       "      <td>...</td>\n",
       "      <td>...</td>\n",
       "      <td>...</td>\n",
       "    </tr>\n",
       "    <tr>\n",
       "      <th>34818</th>\n",
       "      <td>E01EB</td>\n",
       "      <td>VARIATION SELECTOR-252</td>\n",
       "      <td>󠇫</td>\n",
       "    </tr>\n",
       "    <tr>\n",
       "      <th>34819</th>\n",
       "      <td>E01EC</td>\n",
       "      <td>VARIATION SELECTOR-253</td>\n",
       "      <td>󠇬</td>\n",
       "    </tr>\n",
       "    <tr>\n",
       "      <th>34820</th>\n",
       "      <td>E01ED</td>\n",
       "      <td>VARIATION SELECTOR-254</td>\n",
       "      <td>󠇭</td>\n",
       "    </tr>\n",
       "    <tr>\n",
       "      <th>34821</th>\n",
       "      <td>E01EE</td>\n",
       "      <td>VARIATION SELECTOR-255</td>\n",
       "      <td>󠇮</td>\n",
       "    </tr>\n",
       "    <tr>\n",
       "      <th>34822</th>\n",
       "      <td>E01EF</td>\n",
       "      <td>VARIATION SELECTOR-256</td>\n",
       "      <td>󠇯</td>\n",
       "    </tr>\n",
       "  </tbody>\n",
       "</table>\n",
       "<p>34823 rows × 3 columns</p>\n",
       "</div>"
      ],
      "text/plain": [
       "        code                    note rep\n",
       "0       0020                   SPACE    \n",
       "1       0021        EXCLAMATION MARK   !\n",
       "2       0022          QUOTATION MARK   \"\n",
       "3       0023             NUMBER SIGN   #\n",
       "4       0024             DOLLAR SIGN   $\n",
       "...      ...                     ...  ..\n",
       "34818  E01EB  VARIATION SELECTOR-252   󠇫\n",
       "34819  E01EC  VARIATION SELECTOR-253   󠇬\n",
       "34820  E01ED  VARIATION SELECTOR-254   󠇭\n",
       "34821  E01EE  VARIATION SELECTOR-255   󠇮\n",
       "34822  E01EF  VARIATION SELECTOR-256   󠇯\n",
       "\n",
       "[34823 rows x 3 columns]"
      ]
     },
     "execution_count": 4,
     "metadata": {},
     "output_type": "execute_result"
    }
   ],
   "source": [
    "df_unicode = create_df_unicode()\n",
    "\n",
    "df_unicode"
   ]
  },
  {
   "cell_type": "code",
   "execution_count": 5,
   "id": "8cc8c6ed-97aa-4849-b5d5-ddea758287db",
   "metadata": {
    "tags": []
   },
   "outputs": [
    {
     "data": {
      "text/plain": [
       "ARABIC         1330\n",
       "CUNEIFORM      1234\n",
       "YI             1220\n",
       "LATIN          1213\n",
       "CJK            1165\n",
       "               ... \n",
       "GROUP             1\n",
       "UNCERTAINTY       1\n",
       "NEPTUNE           1\n",
       "BALLOT            1\n",
       "SPACE             1\n",
       "Name: language, Length: 819, dtype: int64"
      ]
     },
     "execution_count": 5,
     "metadata": {},
     "output_type": "execute_result"
    }
   ],
   "source": [
    "dfu=df_unicode[df_unicode.code.apply(code_type)=='Writing Symbol'].reset_index(drop=True)\n",
    "dfu['language'] = dfu.note.apply(get_language)\n",
    "dfu.language.value_counts()            "
   ]
  },
  {
   "cell_type": "code",
   "execution_count": 6,
   "id": "870f8f77-ef10-479e-9c4a-95666386fe01",
   "metadata": {},
   "outputs": [],
   "source": [
    "#for i in dfu.language.value_counts().index:\n",
    "    #print(i)\n",
    "    #print(' '.join([u(k) for k in dfu[dfu.language==i].code]))"
   ]
  },
  {
   "cell_type": "code",
   "execution_count": 7,
   "id": "a8979a63-6cde-49b2-abdd-bf8b8d698fed",
   "metadata": {},
   "outputs": [
    {
     "data": {
      "text/plain": [
       "'က ခ ဂ ဃ င စ ဆ ဇ ဈ ဉ ည ဋ ဌ ဍ ဎ ဏ တ ထ ဒ ဓ န ပ ဖ ဗ ဘ မ ယ ရ လ ဝ သ ဟ ဠ အ ဢ ဣ ဤ ဥ ဦ ဧ ဨ ဩ ဪ ါ ာ ိ ီ ု ူ ေ ဲ ဳ ဴ ဵ ံ ့ း ္ ် ျ ြ ွ ှ ဿ ၀ ၁ ၂ ၃ ၄ ၅ ၆ ၇ ၈ ၉ ၊ ။ ၌ ၍ ၎ ၏ ၐ ၑ ၒ ၓ ၔ ၕ ၖ ၗ ၘ ၙ ၚ ၛ ၜ ၝ ၞ ၟ ၠ ၡ ၢ ၣ ၤ ၥ ၦ ၧ ၨ ၩ ၪ ၫ ၬ ၭ ၮ ၯ ၰ ၱ ၲ ၳ ၴ ၵ ၶ ၷ ၸ ၹ ၺ ၻ ၼ ၽ ၾ ၿ ႀ ႁ ႂ ႃ ႄ ႅ ႆ ႇ ႈ ႉ ႊ ႋ ႌ ႍ ႎ ႏ ႐ ႑ ႒ ႓ ႔ ႕ ႖ ႗ ႘ ႙ ႚ ႛ ႜ ႝ ႞ ႟ ꧠ ꧡ ꧢ ꧣ ꧤ ꧥ ꧦ ꧧ ꧨ ꧩ ꧪ ꧫ ꧬ ꧭ ꧮ ꧯ ꧰ ꧱ ꧲ ꧳ ꧴ ꧵ ꧶ ꧷ ꧸ ꧹ ꧺ ꧻ ꧼ ꧽ ꧾ ꩠ ꩡ ꩢ ꩣ ꩤ ꩥ ꩦ ꩧ ꩨ ꩩ ꩪ ꩫ ꩬ ꩭ ꩮ ꩯ ꩰ ꩱ ꩲ ꩳ ꩴ ꩵ ꩶ ꩷ ꩸ ꩹ ꩺ ꩻ ꩼ ꩽ ꩾ ꩿ'"
      ]
     },
     "execution_count": 7,
     "metadata": {},
     "output_type": "execute_result"
    }
   ],
   "source": [
    "' '.join(dfu[dfu.language=='MYANMAR'].rep)\n"
   ]
  },
  {
   "cell_type": "code",
   "execution_count": 8,
   "id": "bc6938c8-017e-48f4-a755-2ccbeb620ccd",
   "metadata": {},
   "outputs": [
    {
     "data": {
      "image/png": "[encoded data removed]",
      "text/plain": [
       "<Figure size 640x480 with 1 Axes>"
      ]
     },
     "metadata": {},
     "output_type": "display_data"
    },
    {
     "name": "stdout",
     "output_type": "stream",
     "text": [
      "CPU times: user 104 ms, sys: 7.97 ms, total: 112 ms\n",
      "Wall time: 114 ms\n"
     ]
    }
   ],
   "source": [
    "%%time\n",
    "from PIL import Image\n",
    "\n",
    "# Preprocess the code column to remove spaces and extra characters\n",
    "dfu['code'] = dfu['code'].apply(preprocess_code)\n",
    "\n",
    "# Define the font size\n",
    "font_size = 120  # Replace with your desired font size\n",
    "\n",
    "# Apply the make_picture function to the first row only\n",
    "picture = make_picture(dfu.iloc[0]['code'], 'data/ttfs/NotoSans-Regular.ttf', font_size)\n",
    "\n",
    "# Convert the grayscale image to RGB\n",
    "picture_rgb = Image.fromarray((picture * 255).astype(np.uint8)).convert('RGB')\n",
    "\n",
    "# Plot the image\n",
    "plt.imshow(picture_rgb)\n",
    "plt.show()\n",
    "    \n",
    "\n"
   ]
  },
  {
   "cell_type": "code",
   "execution_count": 9,
   "id": "dc2df00f-66d1-48ad-b0f9-86c5d5ee939f",
   "metadata": {},
   "outputs": [
    {
     "name": "stdout",
     "output_type": "stream",
     "text": [
      "Pixel Count Complexity: 256\n",
      "Unicode Representation:  \n",
      "Unicode Code Point: 0020\n"
     ]
    },
    {
     "data": {
      "image/png": "[encoded data removed]",
      "text/plain": [
       "<Figure size 640x480 with 1 Axes>"
      ]
     },
     "metadata": {},
     "output_type": "display_data"
    }
   ],
   "source": [
    "# Calculate the pixel count complexity for the image\n",
    "pixel_count_complexity = pixel_count_complexity(picture)\n",
    "\n",
    "# Retrieve the Unicode representation\n",
    "unicode_representation = dfu.iloc[0]['rep']\n",
    "\n",
    "# Print the values\n",
    "print(\"Pixel Count Complexity:\", pixel_count_complexity)\n",
    "print(\"Unicode Representation:\", unicode_representation)\n",
    "print(\"Unicode Code Point:\", dfu.iloc[0]['code'])  # Add this line to check the Unicode code point\n",
    "\n",
    "# Display the image\n",
    "plt.imshow(picture_rgb)\n",
    "plt.show()\n",
    "\n"
   ]
  },
  {
   "cell_type": "code",
   "execution_count": 10,
   "id": "3ecc9b0b-ff96-4793-8611-867ba0bea807",
   "metadata": {},
   "outputs": [
    {
     "ename": "AttributeError",
     "evalue": "'DataFrame' object has no attribute 'pixel_count_complexity'",
     "output_type": "error",
     "traceback": [
      "\u001b[0;31m---------------------------------------------------------------------------\u001b[0m",
      "\u001b[0;31mAttributeError\u001b[0m                            Traceback (most recent call last)",
      "\u001b[0;32m/var/folders/7l/msjd1z0s0614rzlvdntzntyc0000gn/T/ipykernel_95288/2123007900.py\u001b[0m in \u001b[0;36m<module>\u001b[0;34m\u001b[0m\n\u001b[0;32m----> 1\u001b[0;31m plt.hist(dfu.pixel_count_complexity,\n\u001b[0m\u001b[1;32m      2\u001b[0m         bins=np.arange(.994,1.0002,.0001))\n\u001b[1;32m      3\u001b[0m \u001b[0mplt\u001b[0m\u001b[0;34m.\u001b[0m\u001b[0myscale\u001b[0m\u001b[0;34m(\u001b[0m\u001b[0;34m'log'\u001b[0m\u001b[0;34m)\u001b[0m\u001b[0;34m\u001b[0m\u001b[0;34m\u001b[0m\u001b[0m\n\u001b[1;32m      4\u001b[0m \u001b[0mplt\u001b[0m\u001b[0;34m.\u001b[0m\u001b[0mshow\u001b[0m\u001b[0;34m(\u001b[0m\u001b[0;34m)\u001b[0m\u001b[0;34m\u001b[0m\u001b[0;34m\u001b[0m\u001b[0m\n",
      "\u001b[0;32m~/opt/anaconda3/lib/python3.9/site-packages/pandas/core/generic.py\u001b[0m in \u001b[0;36m__getattr__\u001b[0;34m(self, name)\u001b[0m\n\u001b[1;32m   5573\u001b[0m         ):\n\u001b[1;32m   5574\u001b[0m             \u001b[0;32mreturn\u001b[0m \u001b[0mself\u001b[0m\u001b[0;34m[\u001b[0m\u001b[0mname\u001b[0m\u001b[0;34m]\u001b[0m\u001b[0;34m\u001b[0m\u001b[0;34m\u001b[0m\u001b[0m\n\u001b[0;32m-> 5575\u001b[0;31m         \u001b[0;32mreturn\u001b[0m \u001b[0mobject\u001b[0m\u001b[0;34m.\u001b[0m\u001b[0m__getattribute__\u001b[0m\u001b[0;34m(\u001b[0m\u001b[0mself\u001b[0m\u001b[0;34m,\u001b[0m \u001b[0mname\u001b[0m\u001b[0;34m)\u001b[0m\u001b[0;34m\u001b[0m\u001b[0;34m\u001b[0m\u001b[0m\n\u001b[0m\u001b[1;32m   5576\u001b[0m \u001b[0;34m\u001b[0m\u001b[0m\n\u001b[1;32m   5577\u001b[0m     \u001b[0;32mdef\u001b[0m \u001b[0m__setattr__\u001b[0m\u001b[0;34m(\u001b[0m\u001b[0mself\u001b[0m\u001b[0;34m,\u001b[0m \u001b[0mname\u001b[0m\u001b[0;34m:\u001b[0m \u001b[0mstr\u001b[0m\u001b[0;34m,\u001b[0m \u001b[0mvalue\u001b[0m\u001b[0;34m)\u001b[0m \u001b[0;34m->\u001b[0m \u001b[0;32mNone\u001b[0m\u001b[0;34m:\u001b[0m\u001b[0;34m\u001b[0m\u001b[0;34m\u001b[0m\u001b[0m\n",
      "\u001b[0;31mAttributeError\u001b[0m: 'DataFrame' object has no attribute 'pixel_count_complexity'"
     ]
    }
   ],
   "source": [
    "plt.hist(dfu.pixel_count_complexity,\n",
    "        bins=np.arange(.994,1.0002,.0001))\n",
    "plt.yscale('log')\n",
    "plt.show()"
   ]
  }
 ],
 "metadata": {
  "kernelspec": {
   "display_name": "Python 3 (ipykernel)",
   "language": "python",
   "name": "python3"
  },
  "language_info": {
   "codemirror_mode": {
    "name": "ipython",
    "version": 3
   },
   "file_extension": ".py",
   "mimetype": "text/x-python",
   "name": "python",
   "nbconvert_exporter": "python",
   "pygments_lexer": "ipython3",
   "version": "3.9.13"
  }
 },
 "nbformat": 4,
 "nbformat_minor": 5
}
